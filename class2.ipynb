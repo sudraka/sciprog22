{
 "cells": [
  {
   "cell_type": "markdown",
   "id": "c35b6b0e",
   "metadata": {},
   "source": [
    "# Scientific Programming: A Crash Course\n",
    "\n",
    "## Class 2 – Going Abstract – 17 Feb 2022\n",
    "\n",
    "Welcome back!\n",
    "\n",
    "In the previous class we learned all the basic ingredients of programming (numbers, strings, lists, etc.), as well as the fundamental \"control structures\" (`if`, `for`, and `while`). This small handful of components will allow you to do practically anything – the only limits are your time and imagination! However, there are still some more programming structures that are worth learning. Although these new structures are less fundamental, they will help you to organize your code into discrete, modular chunks that are easier to understand and conceptualize.\n",
    "\n",
    "A key concept in programming is abstraction. This is the idea that we can wrap up a bunch of technical details in a single machine, and then we can forget about all the internal technical details – we just need a high-level understanding of what the machine does. In Python, there are four main levels of abstraction:\n",
    "\n",
    "1. Functions: Lines of code can be organized into functions that carry out particular procedures.\n",
    "\n",
    "2. Classes: A bunch of related functions can be organized together in a class.\n",
    "\n",
    "3. Modules: A bunch of functions and classes can be organized together in a module.\n",
    "\n",
    "4. Packages: A bunch of modules can be organized together in a package.\n",
    "\n",
    "As we move up the hierarchy, towards the more abstract levels, we can forget about the nitty-gritty details at the lower levels and focus on more general concepts. Likewise, as we move down the hierarchy we can zoom in to more technical details. For example, the [PsychoPy](https://psychopy.org) package, which is used for running experiments, is comprised of several modules, including one module to deal with timing, another to deal with hardware, and another to deal with sound. Within each module, there are several classes; for example, within the hardware module, you might have classes for dealing with the mouse, keyboard, and monitor. Finally, within classes, there will be multiple functions (technically, they're called \"methods\"), which define particular procedures; for example, within the mouse class, there will be methods to access where the mouse is currently positioned or which button is currently being pressed.\n",
    "\n",
    "Today I mostly want to look at functions, but we'll also briefly look at some of the higher-level abstractions."
   ]
  },
  {
   "cell_type": "markdown",
   "id": "a35ca8ce",
   "metadata": {},
   "source": [
    "## Functions\n",
    "\n",
    "You've already used several functions, perhaps without even realizing. For example, you used the `print()` function in order to put stuff on the screen, you used the `len()` function to find out how many items are in a list, and you used the `range()` function to generate a list of counting numbers.\n",
    "\n",
    "These are all **\"built-in\" functions** – that is, functions that are a core part of Python. Unlike other languages, Python has a very minimal set of built-in functions; however, there are many useful functions which can be **imported** if you need to use them. More importantly, you can define your own functions. This turns out to be extremely useful for organizing your code and minimizing unnecessary code duplication. It also makes it easier to test and understand your code because you can isolate each part of the machine and understand it independently of everything else. When you become a proficient programmer, 95% of your code will be functions: You define all the functions you need and then you \"conduct\" them as if you were conducting an orchestra.\n",
    "\n",
    "### Built-in functions\n",
    "\n",
    "You can find a full list of the built-in functions here: https://docs.python.org/3/library/functions.html Of these, I think the most commonly used ones are `abs`, `round`, `min`, `max`, `sum`, `sorted`, `reversed`, `enumerate`, and `zip`. Most of these are fairly obvious, but let's take a look at each in turn.\n",
    "\n",
    "`abs()` gives you the absolute value of a number (it removes the sign):"
   ]
  },
  {
   "cell_type": "code",
   "execution_count": 1,
   "id": "77db6ba9",
   "metadata": {},
   "outputs": [
    {
     "name": "stdout",
     "output_type": "stream",
     "text": [
      "2\n"
     ]
    }
   ],
   "source": [
    "print(abs(2))"
   ]
  },
  {
   "cell_type": "code",
   "execution_count": 2,
   "id": "2bbf8b3b",
   "metadata": {},
   "outputs": [
    {
     "name": "stdout",
     "output_type": "stream",
     "text": [
      "2\n"
     ]
    }
   ],
   "source": [
    "print(abs(-2))"
   ]
  },
  {
   "cell_type": "code",
   "execution_count": 3,
   "id": "9a16dacc",
   "metadata": {},
   "outputs": [
    {
     "name": "stdout",
     "output_type": "stream",
     "text": [
      "2.5\n"
     ]
    }
   ],
   "source": [
    "print(abs(-2.5))"
   ]
  },
  {
   "cell_type": "markdown",
   "id": "15bb4750",
   "metadata": {},
   "source": [
    "`round()` is used to round a float to a specified number of significant digits. For example, here we round *π* to 3 significant digits."
   ]
  },
  {
   "cell_type": "code",
   "execution_count": 4,
   "id": "4992e4c3",
   "metadata": {},
   "outputs": [
    {
     "name": "stdout",
     "output_type": "stream",
     "text": [
      "3.142\n"
     ]
    }
   ],
   "source": [
    "print(round(3.14159, 3))"
   ]
  },
  {
   "cell_type": "markdown",
   "id": "82cc1104",
   "metadata": {},
   "source": [
    "If you don't specify the number of digits, the `round()` function will default to 0 decimal places, that is, to the nearest whole number (this also causes the number to be cast as an int):"
   ]
  },
  {
   "cell_type": "code",
   "execution_count": 5,
   "id": "e4303b5b",
   "metadata": {},
   "outputs": [
    {
     "name": "stdout",
     "output_type": "stream",
     "text": [
      "3\n"
     ]
    }
   ],
   "source": [
    "print(round(3.14159))"
   ]
  },
  {
   "cell_type": "markdown",
   "id": "14e30d2d",
   "metadata": {},
   "source": [
    "`min()`, `max()`, and `sum()` do exactly what you would expect: Given a *list* of numbers, these functions return the minimum, the maximum, and the summation."
   ]
  },
  {
   "cell_type": "code",
   "execution_count": 6,
   "id": "f3d1ffec",
   "metadata": {},
   "outputs": [
    {
     "name": "stdout",
     "output_type": "stream",
     "text": [
      "1\n",
      "10\n",
      "55\n"
     ]
    }
   ],
   "source": [
    "numbers = [1, 2, 3, 4, 5, 6, 7, 8, 9, 10]\n",
    "\n",
    "print(min(numbers))\n",
    "print(max(numbers))\n",
    "print(sum(numbers))"
   ]
  },
  {
   "cell_type": "markdown",
   "id": "332d975c",
   "metadata": {},
   "source": [
    "The `sorted()`function also does exactly what you would expect – it sorts a list:"
   ]
  },
  {
   "cell_type": "code",
   "execution_count": 7,
   "id": "5c730ef0",
   "metadata": {},
   "outputs": [
    {
     "name": "stdout",
     "output_type": "stream",
     "text": [
      "[1, 2, 3, 4, 5, 6, 7, 8, 9, 10]\n"
     ]
    }
   ],
   "source": [
    "unsorted_numbers = [8, 4, 9, 5, 1, 2, 3, 6, 7, 10]\n",
    "sorted_numbers = sorted(unsorted_numbers)\n",
    "print(sorted_numbers)"
   ]
  },
  {
   "cell_type": "markdown",
   "id": "805f6d16",
   "metadata": {},
   "source": [
    "The `sorted()` function can also be used with strings, in which case, the strings are sorted alphabetically:"
   ]
  },
  {
   "cell_type": "code",
   "execution_count": 8,
   "id": "562dc14f",
   "metadata": {},
   "outputs": [
    {
     "name": "stdout",
     "output_type": "stream",
     "text": [
      "['black', 'blue', 'green', 'red', 'yellow']\n"
     ]
    }
   ],
   "source": [
    "colors = ['blue', 'red', 'green', 'yellow', 'black']\n",
    "sorted_colors = sorted(colors)\n",
    "print(sorted_colors)"
   ]
  },
  {
   "cell_type": "markdown",
   "id": "7ed54c41",
   "metadata": {},
   "source": [
    "However, look what happens when we try to reverse a list using the `reversed()` function:"
   ]
  },
  {
   "cell_type": "code",
   "execution_count": 9,
   "id": "2093a845",
   "metadata": {},
   "outputs": [
    {
     "name": "stdout",
     "output_type": "stream",
     "text": [
      "<list_reverseiterator object at 0x7fe564302f50>\n"
     ]
    }
   ],
   "source": [
    "colors = ['blue', 'red', 'green', 'yellow', 'black']\n",
    "reversed_colors = reversed(colors)\n",
    "print(reversed_colors)"
   ]
  },
  {
   "cell_type": "markdown",
   "id": "f8a68858",
   "metadata": {},
   "source": [
    "Here you should see something weird like `<list_reverseiterator object at 0x11089ff70>`. The reason for this is because the `reversed()` function doesn't actually create a new list with the elements in reverse order. Instead, it creates an \"iterator object.\" You can combine this object with a for-loop in order to traverse the elements in reverse order:"
   ]
  },
  {
   "cell_type": "code",
   "execution_count": 11,
   "id": "7d95da0d",
   "metadata": {},
   "outputs": [
    {
     "name": "stdout",
     "output_type": "stream",
     "text": [
      "black\n",
      "yellow\n",
      "green\n",
      "red\n",
      "blue\n"
     ]
    }
   ],
   "source": [
    "colors = ['blue', 'red', 'green', 'yellow', 'black']\n",
    "reversed_colors = reversed(colors)\n",
    "for color in reversed_colors:\n",
    "    print(color)"
   ]
  },
  {
   "cell_type": "markdown",
   "id": "85d08df9",
   "metadata": {},
   "source": [
    "This behavior is a little inconvenient sometimes, but the function is designed this way to be more computationally efficient. If you had a list with a billion numbers and tried to reverse it, the computer would have to waste a lot of memory representing two versions of the list: the original list and the reversed version. By creating an iterator object, Python doesn't actually need to create a new list in memory; the iterator object just represents the *concept* of looking at the original list in reverse order. When you iterate over the iterator object, Python just reads the original list in reverse.\n",
    "\n",
    "This type of behavior is quite common in Python. For example, the `range()` function does the same thing. If you write something like `range(1, 1000000000001)` (the range of numbers from one to one trillion), the numbers are not actually created in memory. In fact, I'm not sure it's even possible to represent this many numbers in memory simultaneously. If each number requires 64 bits to represent, then you would need 64 trillion bits, which is equivalent to seven thousand gigabytes. To put that in context, my computer has 32 gigabytes of RAM. Nevertheless, Python will quite happily represent the *concept* of a trillion numbers with no problem."
   ]
  },
  {
   "cell_type": "markdown",
   "id": "3243dd35",
   "metadata": {},
   "source": [
    "#### `enumerate` and `zip`\n",
    "\n",
    "These last two built-in functions, `enumerate()` and `zip()` also create iterator objects. They offer some handy functionality that is mostly useful when used in combination with a for-loop. First, a very common thing we need to do when iterating over items is to keep track of the index of each item; this is what `enumerate()` allows you to do – it enumerates (numbers) the items in the list."
   ]
  },
  {
   "cell_type": "code",
   "execution_count": 10,
   "id": "26cb58a5",
   "metadata": {},
   "outputs": [
    {
     "name": "stdout",
     "output_type": "stream",
     "text": [
      "The element with index 0 is blue.\n",
      "The element with index 1 is red.\n",
      "The element with index 2 is green.\n",
      "The element with index 3 is yellow.\n",
      "The element with index 4 is black.\n"
     ]
    }
   ],
   "source": [
    "colors = ['blue', 'red', 'green', 'yellow', 'black']\n",
    "\n",
    "for index, item in enumerate(colors):\n",
    "    message = f'The element with index {index} is {item}.'\n",
    "    print(message)"
   ]
  },
  {
   "cell_type": "markdown",
   "id": "eaaf5a2f",
   "metadata": {},
   "source": [
    "In particular, note the slightly different syntax. Instead of a single iterator variable, there are now two iterator variables `index` and `item`, separated by a comma. As always, you are free to pick the variable names. At the moment, it might not seem so obvious why the `enumerate()` function is useful, but personally I use it all the time. For example, maybe I have a bunch of items that I want to plot in different plots. By using `enumerate()` I can place the first item in plot 1, the second item in plot 2, ... and so on.\n",
    "\n",
    "The `zip()` function does something similar. It allows you to \"zip together\" two (or more) lists so that an item in one list is paired up with the corresponding item in another list, like this:"
   ]
  },
  {
   "cell_type": "code",
   "execution_count": 12,
   "id": "d5a09883",
   "metadata": {},
   "outputs": [
    {
     "name": "stdout",
     "output_type": "stream",
     "text": [
      "Francesco's favorite color is blue\n",
      "Laura's favorite color is red\n",
      "Matteo's favorite color is green\n",
      "Gabriele's favorite color is yellow\n",
      "Andrea's favorite color is black\n"
     ]
    }
   ],
   "source": [
    "favorite_colors = ['blue', 'red', 'green', 'yellow', 'black']\n",
    "friends = ['Francesco', 'Laura', 'Matteo', 'Gabriele', 'Andrea']\n",
    "\n",
    "for color, friend in zip(favorite_colors, friends):\n",
    "    message = f\"{friend}'s favorite color is {color}\"\n",
    "    print(message)"
   ]
  },
  {
   "cell_type": "markdown",
   "id": "5166e84f",
   "metadata": {},
   "source": [
    "Try experimenting with a third list. For example, maybe you also have another list containing your friends' ages and you want to zip all this information together."
   ]
  },
  {
   "cell_type": "markdown",
   "id": "43f3ebad",
   "metadata": {},
   "source": [
    "### Importing functions\n",
    "\n",
    "Aside from these core Python functions, which are always available to you, you can also import functions that are a little more specialist. A standard Python installation includes a bunch of built-in modules, collectively known as the **Python standard library**. For example, some commonly used modules are `math`, `random`, `re`, `itertools`, `time`, `pathlib`, `os`, and `collections`. We won't look at all of these in detail; I just want you to know that there are lots more tools available in the standard library, but they need to be explicitly imported. Going beyond the standard library, you can also install packages that provide even more functionality.\n",
    "\n",
    "To import a module, you use `import` followed by the name of the module. By convention, you usually put your `import` statements at the top of a script, but you can actually put them anywhere. Let's import the `math` module, which provides various mathematical functions."
   ]
  },
  {
   "cell_type": "code",
   "execution_count": 13,
   "id": "beda9e76",
   "metadata": {},
   "outputs": [],
   "source": [
    "import math"
   ]
  },
  {
   "cell_type": "markdown",
   "id": "32e12bc6",
   "metadata": {},
   "source": [
    "Once the module has been imported, you can refer to the functions it contains by using **\"dot notation.\"** You write the name of the module, then a dot (`.`) and then the name of the function. The dot means something like, \"look inside.\" For example, to use the `sqrt()` function (square root), we can do this:"
   ]
  },
  {
   "cell_type": "code",
   "execution_count": 14,
   "id": "964e7312",
   "metadata": {},
   "outputs": [
    {
     "name": "stdout",
     "output_type": "stream",
     "text": [
      "4.0\n"
     ]
    }
   ],
   "source": [
    "print(math.sqrt(16))"
   ]
  },
  {
   "cell_type": "markdown",
   "id": "1392a439",
   "metadata": {},
   "source": [
    "So, conceptually, the `sqrt()` function is located inside the `math` module. If we were planning to use the `sqrt()` function a lot, we might choose to import that function specifically, in which case we would use the following syntax:"
   ]
  },
  {
   "cell_type": "code",
   "execution_count": 15,
   "id": "c932e1ca",
   "metadata": {},
   "outputs": [],
   "source": [
    "from math import sqrt"
   ]
  },
  {
   "cell_type": "markdown",
   "id": "fdbce31a",
   "metadata": {},
   "source": [
    "Now we can use the `sqrt()` function directly, without having to specify the name of the module (`math`) every time we use it:"
   ]
  },
  {
   "cell_type": "code",
   "execution_count": 16,
   "id": "7c75b183",
   "metadata": {},
   "outputs": [
    {
     "name": "stdout",
     "output_type": "stream",
     "text": [
      "8.0\n"
     ]
    }
   ],
   "source": [
    "print(sqrt(64))"
   ]
  },
  {
   "cell_type": "markdown",
   "id": "b19ea5ad",
   "metadata": {},
   "source": [
    "Another useful module, especially in science, is `random`. The `random` module contains various functions for generating random numbers. For example, the `randint()` function generates a random integer between *x* and *y*:"
   ]
  },
  {
   "cell_type": "code",
   "execution_count": 26,
   "id": "b89cf717",
   "metadata": {},
   "outputs": [
    {
     "name": "stdout",
     "output_type": "stream",
     "text": [
      "9\n"
     ]
    }
   ],
   "source": [
    "import random\n",
    "\n",
    "print(random.randint(0, 10))"
   ]
  },
  {
   "cell_type": "markdown",
   "id": "25304fc9",
   "metadata": {},
   "source": [
    "If you run the above cell a few times, you will see that you get different random numbers. A slightly weird thing about the `randint()` function is that the range is expressed in inclusive:inclusive format, which is inconsistent with pretty much all other functions in Python, where ranges are inclusive:exclusive. This annoys me every time I use this function! But, we're kind of stuck with this design decision now. Realistically, the Python developers can't change the behavior of this function because that would break backwards compatibility: Many people's scripts would no longer behave correctly under newer versions of the language.\n",
    "\n",
    "I mention this because bugs relating to random numbers can be particularly hard to find and squash. If you weren't aware of this particular behavior, you would probably expect `random.randint(0, 10)` to yield numbers from 0 to 9 and never 10 (based on how things work everywhere else in the language). Because of the nature of random numbers, it might be difficult to even notice that there's a problem; you would have to run your code several times to even notice it. Furthermore, the bug would only manifest itself some of the time – seemingly at random – making it hard to locate the source of the problem. For example, imagine you wanted to run an experiment where you show your participants random color words; you might have some code like this:"
   ]
  },
  {
   "cell_type": "code",
   "execution_count": 39,
   "id": "408df6c6",
   "metadata": {},
   "outputs": [
    {
     "name": "stdout",
     "output_type": "stream",
     "text": [
      "yellow\n",
      "green\n",
      "black\n",
      "yellow\n",
      "yellow\n",
      "black\n",
      "blue\n",
      "black\n",
      "yellow\n",
      "red\n"
     ]
    }
   ],
   "source": [
    "colors = ['blue', 'red', 'green', 'yellow', 'black']\n",
    "\n",
    "for trial_number in range(10):\n",
    "    random_color_index = random.randint(0, 4)\n",
    "    random_color = colors[random_color_index]\n",
    "    print(random_color)"
   ]
  },
  {
   "cell_type": "code",
   "execution_count": 43,
   "id": "fa9419ca",
   "metadata": {},
   "outputs": [
    {
     "name": "stdout",
     "output_type": "stream",
     "text": [
      "green\n",
      "yellow\n",
      "green\n",
      "red\n",
      "yellow\n",
      "black\n",
      "yellow\n",
      "red\n",
      "green\n",
      "black\n"
     ]
    }
   ],
   "source": [
    "colors = ['blue', 'red', 'green', 'yellow', 'black']\n",
    "\n",
    "for trial_number in range(10):\n",
    "    print(random.choice(colors))"
   ]
  },
  {
   "cell_type": "markdown",
   "id": "5c23eb7d",
   "metadata": {},
   "source": [
    "When you run the code above, it might work perfectly first time (if so, try it again); however, most of the time it will fail with an `IndexError` and the message \"list index out of range.\" Do you see why this is happening? How would you fix this bug? Can you think of some more elegant ways to write this code? (hint: try investigating the `choice()` function from the `random` module)"
   ]
  },
  {
   "cell_type": "markdown",
   "id": "f585dfc2",
   "metadata": {},
   "source": [
    "Another very common thing that we need to do when building experiments is randomly shuffle some stimuli, so that each participant sees the stimuli in a different order. The `shuffle()` function is useful for this purpose:"
   ]
  },
  {
   "cell_type": "code",
   "execution_count": 51,
   "id": "8d1090ca",
   "metadata": {},
   "outputs": [
    {
     "name": "stdout",
     "output_type": "stream",
     "text": [
      "blue\n",
      "black\n",
      "red\n",
      "green\n",
      "yellow\n",
      "['blue', 'black', 'red', 'green', 'yellow']\n"
     ]
    }
   ],
   "source": [
    "colors = ['blue', 'red', 'green', 'yellow', 'black']\n",
    "\n",
    "random.shuffle(colors)\n",
    "\n",
    "for color in colors:\n",
    "    print(color)\n",
    "    \n",
    "print(colors)"
   ]
  },
  {
   "cell_type": "markdown",
   "id": "f651c941",
   "metadata": {},
   "source": [
    "Here we see another slightly odd thing about the `random` module: The `shuffle()` function operates on the list **in place**. This means that the original list is modified directly; the function does not create and return a new shuffled version of the list. For example, you might have expected to write the code like this:"
   ]
  },
  {
   "cell_type": "code",
   "execution_count": 52,
   "id": "fa62fe05",
   "metadata": {},
   "outputs": [
    {
     "ename": "TypeError",
     "evalue": "'NoneType' object is not iterable",
     "output_type": "error",
     "traceback": [
      "\u001b[0;31m---------------------------------------------------------------------------\u001b[0m",
      "\u001b[0;31mTypeError\u001b[0m                                 Traceback (most recent call last)",
      "\u001b[0;32m/tmp/ipykernel_18680/3182429278.py\u001b[0m in \u001b[0;36m<module>\u001b[0;34m\u001b[0m\n\u001b[1;32m      3\u001b[0m \u001b[0mshuffled_colors\u001b[0m \u001b[0;34m=\u001b[0m \u001b[0mrandom\u001b[0m\u001b[0;34m.\u001b[0m\u001b[0mshuffle\u001b[0m\u001b[0;34m(\u001b[0m\u001b[0mcolors\u001b[0m\u001b[0;34m)\u001b[0m\u001b[0;34m\u001b[0m\u001b[0;34m\u001b[0m\u001b[0m\n\u001b[1;32m      4\u001b[0m \u001b[0;34m\u001b[0m\u001b[0m\n\u001b[0;32m----> 5\u001b[0;31m \u001b[0;32mfor\u001b[0m \u001b[0mcolor\u001b[0m \u001b[0;32min\u001b[0m \u001b[0mshuffled_colors\u001b[0m\u001b[0;34m:\u001b[0m\u001b[0;34m\u001b[0m\u001b[0;34m\u001b[0m\u001b[0m\n\u001b[0m\u001b[1;32m      6\u001b[0m     \u001b[0mprint\u001b[0m\u001b[0;34m(\u001b[0m\u001b[0mcolor\u001b[0m\u001b[0;34m)\u001b[0m\u001b[0;34m\u001b[0m\u001b[0;34m\u001b[0m\u001b[0m\n",
      "\u001b[0;31mTypeError\u001b[0m: 'NoneType' object is not iterable"
     ]
    }
   ],
   "source": [
    "colors = ['blue', 'red', 'green', 'yellow', 'black']\n",
    "\n",
    "shuffled_colors = random.shuffle(colors)\n",
    "\n",
    "for color in shuffled_colors:\n",
    "    print(color)"
   ]
  },
  {
   "cell_type": "markdown",
   "id": "c2c077ea",
   "metadata": {},
   "source": [
    "But, as you can see, this produces a `TypeError` with the rather obscure message \"NoneType object is not iterable.\" What's going on here? Can you find the source of this error? Why is Python trying to iterate over \"NoneType\"? What does this even mean!?\n",
    "\n",
    "Being able to read and interpret errors is a really valuable skill, but, unfortunately, it takes time and experience to develop. Python will try its best to explain why it can't interpret your code; however, sometimes you need to put yourself in Python's shoes – you need to look at the code from the point of view of the computer.\n",
    "\n",
    "Often, to interpret an error, you need to work backwards to trace its source. For example, in the code above, it seems like the error happens on line 5; after all, there's a big green arrow pointing to line 5. But, in fact, the real source of the error is in line 3. Putting myself in Python's shoes, I would work through it like this:\n",
    "\n",
    "1. On line 5, Python got stuck and says \"NoneType\" is not iterable.\n",
    "\n",
    "2. That means the for-loop is trying to iterate over `None` (incidentally, this is how Python represents null / nothing / none).\n",
    "\n",
    "3. If the for-loop is trying to iterate over `None`, that means that the variable `shuffled_colors` is equal to `None`.\n",
    "\n",
    "4. If `shuffled_colors` is `None` that means the `random.shuffle()` function returned `None`.\n",
    "\n",
    "5. Why does `random.shuffle()` return `None`?\n",
    "\n",
    "At this point, I would then remember... oh yeah!... `random.shuffle()` operates on the list in place; it does not return a copy of the list. (If a function doesn't return anything, `None` is returned by default).\n",
    "\n",
    "Here's my advice: Don't get mad if the computer doesn't understand you; keep calm and work backwards through the code! If you need to, print some of the variables to verify that they are indeed equal to what you expect them to be equal to. Pretty soon, you should be able to track down the source of the bug. You might be tempted just to copy and paste *TypeError: 'NoneType' object is not iterable* into Google. This *might* help you, but it might also just confuse you even more; there are many ways this particular error could come about, and the people on Stack Overflow are probably getting this error for totally unrelated reasons. (Nevertheless, please feel free to Google stuff when you get stuck – I do it every day – just be aware of the potential pitfalls)."
   ]
  },
  {
   "cell_type": "markdown",
   "id": "1a9993bc",
   "metadata": {},
   "source": [
    "### Writing functions\n",
    "\n",
    "Okay! Sorry! I got a bit side-tracked there. Let's turn to something much more exciting. Writing functions!\n",
    "\n",
    "Here's a function definition:"
   ]
  },
  {
   "cell_type": "code",
   "execution_count": 53,
   "id": "a2b8993c",
   "metadata": {},
   "outputs": [],
   "source": [
    "def product(numbers):\n",
    "    total = numbers[0]\n",
    "    for number in numbers[1:]:\n",
    "        total *= number\n",
    "    return total"
   ]
  },
  {
   "cell_type": "code",
   "execution_count": 56,
   "id": "8ba4032b",
   "metadata": {},
   "outputs": [],
   "source": [
    "def product_another_way(numbers):\n",
    "    total = 1\n",
    "    for number in numbers:\n",
    "        total *= number\n",
    "    return total"
   ]
  },
  {
   "cell_type": "markdown",
   "id": "a06b89df",
   "metadata": {},
   "source": [
    "Before I explain the new syntax here, let's actually *use* the function first, so you can see the relationship with the built-in functions that you're already familiar with.\n",
    "\n",
    "The goal of the function is to calculate the product of a bunch of numbers (that is, all the numbers multiplied together). To use the function, I just have to give it a list of numbers and it calculates the product:"
   ]
  },
  {
   "cell_type": "code",
   "execution_count": 54,
   "id": "22ad8c74",
   "metadata": {},
   "outputs": [
    {
     "name": "stdout",
     "output_type": "stream",
     "text": [
      "540\n"
     ]
    }
   ],
   "source": [
    "some_numbers = [4, 9, 3, 5]\n",
    "print(product(some_numbers))"
   ]
  },
  {
   "cell_type": "code",
   "execution_count": 57,
   "id": "a0ab72e6",
   "metadata": {},
   "outputs": [
    {
     "name": "stdout",
     "output_type": "stream",
     "text": [
      "540\n"
     ]
    }
   ],
   "source": [
    "some_numbers = [4, 9, 3, 5]\n",
    "print(product_another_way(some_numbers))"
   ]
  },
  {
   "cell_type": "markdown",
   "id": "2d35a802",
   "metadata": {},
   "source": [
    "So here, 4 × 9 × 3 × 5 = 540. Your list can contain any number of numbers and the product function will produce the correct answer. The nice thing about this is that I can code the function once, and then I can just forget all the details about how it actually works internally; I can just trust that when I give the `product()` function a list of numbers it will calculate the product correctly. As you can see, the `product()` function that we've created here is *used* just like the built-in `sum()` function that you briefly saw earlier – the only difference is that we created the `product()` function ourselves."
   ]
  },
  {
   "cell_type": "code",
   "execution_count": 58,
   "id": "7de3861a",
   "metadata": {},
   "outputs": [
    {
     "name": "stdout",
     "output_type": "stream",
     "text": [
      "540\n",
      "21\n"
     ]
    }
   ],
   "source": [
    "print(product([4, 9, 3, 5]))\n",
    "print(sum([4, 9, 3, 5]))"
   ]
  },
  {
   "cell_type": "markdown",
   "id": "51a23c38",
   "metadata": {},
   "source": [
    "Now let's look at the function definition in more detail:\n",
    "\n",
    "```python\n",
    "def product(numbers):\n",
    "    total = numbers[0]\n",
    "    for number in numbers[1:]:\n",
    "        total *= number\n",
    "    return total\n",
    "```\n",
    "\n",
    "To define a function you use the `def` keyword (short for define). This is followed by the name of the function. Like variables, you can choose whatever name you want, but it's good to choose something descriptive. The name of the function is followed by a set of parentheses which contain the function's **arguments**, or in other words, variable names that will be used to represent the function's inputs. In this case, the function has a single argument `numbers` (note that, although the user will pass in multiple numbers, they only actually pass in one object, a list; thus, the function only takes one input – it has one argument). As you would expect, you are free to choose the argument names. Here I chose the argument name `numbers` because it communicates to the user what I expect them to pass in – a list of numbers. Finally, like `if`, `for`, and `while`, the first line of the function definition ends with a colon (`:`).\n",
    "\n",
    "Now, everything indented inside the function describes the actual procedure that needs to be carried out – how exactly to calculate a product. I won't explain the internal workings here – instead, I leave it to you to study the code and understand how it works. However, the important thing is that the function definition ends with a `return` statement. The `return` statement specifies the output of the function – the object that will be returned when the function completes. In this case, our `product()` function needs to return... the product, which I represented by the variable `total`.\n",
    "\n",
    "I hope all this is making some sense – but if you're feeling lost, please get my attention so we can work through it together. Functions are super useful, and I really want to make sure everyone understands them. Once you understand how to make your own functions, you are well on your way to becoming a proficient programmer!\n",
    "\n",
    "Before we move on, I want to show you a bad way to code and good way to code so that you can compare and see the difference. First, let's look at the bad way:"
   ]
  },
  {
   "cell_type": "code",
   "execution_count": 60,
   "id": "bd68de71",
   "metadata": {},
   "outputs": [
    {
     "name": "stdout",
     "output_type": "stream",
     "text": [
      "4320\n",
      "38610\n",
      "972\n"
     ]
    }
   ],
   "source": [
    "some_numbers = [3, 9, 2, 8, 10]\n",
    "total = some_numbers[0]\n",
    "for number in some_numbers[1:]:\n",
    "    total *= number\n",
    "print(total)\n",
    "\n",
    "some_more_numbers = [5, 2, 9, 11, 13, 3]\n",
    "total = some_more_numbers[0]\n",
    "for number in some_more_numbers[1:]:\n",
    "    total *= number\n",
    "print(total)\n",
    "\n",
    "even_more_numbers = [4, 9, 9, 3]\n",
    "total = even_more_numbers[0]\n",
    "for number in even_more_numbers[1:]:\n",
    "    total *= number\n",
    "print(total)"
   ]
  },
  {
   "cell_type": "markdown",
   "id": "a6adb386",
   "metadata": {},
   "source": [
    "This is [spaghetti code](https://en.wikipedia.org/wiki/Spaghetti_code) (apparently there's also such a thing as \"ravioli code\" and \"lasagna code\")! The main problem is that there's a lot of code duplication – we are writing the same code over and over again, which is very messy and fragile. It's also not really clear what the overall purpose is, and how can we be sure that the printed outputs are actually correct? (In fact, there are three bugs in this code, which you probably didn't notice. Can you find and fix them?)\n",
    "\n",
    "Now let's look at the good way to write this code:"
   ]
  },
  {
   "cell_type": "code",
   "execution_count": 61,
   "id": "47afc9cd",
   "metadata": {},
   "outputs": [
    {
     "name": "stdout",
     "output_type": "stream",
     "text": [
      "4320\n",
      "38610\n",
      "972\n"
     ]
    }
   ],
   "source": [
    "def product(numbers):\n",
    "    total = numbers[0]\n",
    "    for number in numbers[1:]:\n",
    "        total *= number\n",
    "    return total\n",
    "\n",
    "print(product([3, 9, 2, 8, 10]))\n",
    "print(product([5, 2, 9, 11, 13, 3]))\n",
    "print(product([4, 9, 9, 3]))"
   ]
  },
  {
   "cell_type": "markdown",
   "id": "25991776",
   "metadata": {},
   "source": [
    "Bellissimo! The code is short, tidy, and organized, and most importantly it's quick and easy to grasp exactly what's happening. Even if you don't delve into the technical details of how the function works, you can at least understand conceptually what the code is doing overall.\n",
    "\n",
    "If you ever find yourself writing the same lines again and again, that's a good sign that you should probably be using a function."
   ]
  },
  {
   "cell_type": "markdown",
   "id": "cf54b07f",
   "metadata": {},
   "source": [
    "### More on arguments\n",
    "\n",
    "In the example above, we just used a single argument, but functions can have many arguments. In principle, I don't think there's any hard limit on the number of arguments, but, as a rule of thumb, less than six is probably good. If your function requires a lot of arguments, it's probably getting a bit out of control and it might be time to reorganize things by breaking the function down into smaller parts. In any case, here's an example of a function with two arguments, so you get the general idea:"
   ]
  },
  {
   "cell_type": "code",
   "execution_count": null,
   "id": "048c7587",
   "metadata": {},
   "outputs": [],
   "source": [
    "def raise_x_to_y(x, y):\n",
    "    return x**y\n",
    "\n",
    "print(raise_x_to_y(2, 10))"
   ]
  },
  {
   "cell_type": "markdown",
   "id": "9e3a0d2a",
   "metadata": {},
   "source": [
    "In addition, you can also make arguments optional; if the user doesn't provide a value for a given argument, it will default to a specified value. For example:"
   ]
  },
  {
   "cell_type": "code",
   "execution_count": 62,
   "id": "003486df",
   "metadata": {},
   "outputs": [
    {
     "name": "stdout",
     "output_type": "stream",
     "text": [
      "1024\n",
      "4\n"
     ]
    }
   ],
   "source": [
    "def raise_x_to_y(x, y=2):\n",
    "    return x**y\n",
    "\n",
    "print(raise_x_to_y(2, 10))\n",
    "print(raise_x_to_y(2))"
   ]
  },
  {
   "cell_type": "markdown",
   "id": "12060103",
   "metadata": {},
   "source": [
    "As you can see, if I don't specify a `y` value when I call the function, `y` will default to `2`. It's also worth noting that you can explicitly specify the arguments when calling the function. This allows you to pass in the arguments in any order, which is especially useful if you can't remember what order they're supposed to go in."
   ]
  },
  {
   "cell_type": "code",
   "execution_count": 63,
   "id": "24247eee",
   "metadata": {},
   "outputs": [
    {
     "name": "stdout",
     "output_type": "stream",
     "text": [
      "1024\n",
      "1024\n"
     ]
    }
   ],
   "source": [
    "print(raise_x_to_y(x=2, y=10))\n",
    "print(raise_x_to_y(y=10, x=2))"
   ]
  },
  {
   "cell_type": "markdown",
   "id": "0b944e47",
   "metadata": {},
   "source": [
    "### Fun with functions\n",
    "\n",
    "Let's do something a bit more fun than boring mathy stuff:"
   ]
  },
  {
   "cell_type": "code",
   "execution_count": 99,
   "id": "546abaa0",
   "metadata": {},
   "outputs": [
    {
     "name": "stdout",
     "output_type": "stream",
     "text": [
      "♈️ As an Aries, you are naturally stable, but you also tend to be timid. Today is the day to cherish and embrace others. A smile can get you a long way. Luck is on your side today, so seize it! \n",
      "♉️ As a Taurus, you are naturally happy, but you also tend to be chaotic. Today is perfect for new endeavors. A smile can get you a long way. Things are looking up for you! \n",
      "♊️ As a Gemini, you are naturally funny, but you also tend to be anxious. The tensions of this week will feel heavier today than yesterday. Don’t let the circumstances bring you down. Things are looking up for you! \n",
      "♋️ As a Cancer, you are naturally determined, but you also tend to be chaotic. Making yourself useful is a main component of a successful day. Patience is key, but sometimes a little push can get the job done. Today is the day for that thing you always wanted to do. \n",
      "♌️ As a Leo, you are naturally funny, but you also tend to be rambunctious. The tensions of this week will feel heavier today than yesterday. A smile can get you a long way. Luck is on your side today, so seize it! \n",
      "♍️ As a Virgo, you are naturally stable, but you also tend to be timid. The tensions of this week will feel heavier today than yesterday. Remember that good things come to those who work hard. Luck favors those who mind the risks and take them. \n",
      "♎️ As a Libra, you are naturally stable, but you also tend to be chaotic. Today is perfect for new endeavors. Patience is key, but sometimes a little push can get the job done. Luck is on your side today, so seize it! \n",
      "♏️ As a Scorpio, you are naturally determined, but you also tend to be rambunctious. Today is the day to cherish and embrace others. Don’t let the circumstances bring you down. Looking ahead may seem like a waste of time, but it pays off in the end. \n",
      "♐️ As a Sagittarius, you are naturally happy, but you also tend to be timid. Making yourself useful is a main component of a successful day. A smile can get you a long way. Today is the day for that thing you always wanted to do. \n",
      "♑️ As a Capricorn, you are naturally stable, but you also tend to be rambunctious. Today, exercise caution when crossing the street. Patience is key, but sometimes a little push can get the job done. Things are looking up for you! \n",
      "♒️ As an Aquarius, you are naturally happy, but you also tend to be anxious. The tensions of this week will feel heavier today than yesterday. A smile can get you a long way. Looking ahead may seem like a waste of time, but it pays off in the end. \n",
      "♓️ As a Pisces, you are naturally determined, but you also tend to be timid. Today is the day to cherish and embrace others. A smile can get you a long way. Things are looking up for you! \n"
     ]
    }
   ],
   "source": [
    "from random import choice\n",
    "\n",
    "\n",
    "positive_adjectives = ['funny', 'determined', 'happy', 'stable']\n",
    "negative_adjectives = ['anxious', 'rambunctious', 'timid', 'chaotic']\n",
    "\n",
    "prophecies = [\n",
    "    ['Today is perfect for new endeavors. ', 'The tensions of this week will feel heavier today than yesterday. ', 'Today is the day to cherish and embrace others. ', 'Making yourself useful is a main component of a successful day. ', 'Today, exercise caution when crossing the street. ',],\n",
    "    ['Remember that good things come to those who work hard. ', 'Don’t let the circumstances bring you down. ', 'Patience is key, but sometimes a little push can get the job done. ', 'A smile can get you a long way. '],\n",
    "    ['Looking ahead may seem like a waste of time, but it pays off in the end. ', 'Luck favors those who mind the risks and take them. ', 'Today is the day for that thing you always wanted to do. ', 'Luck is on your side today, so seize it! ', 'Things are looking up for you! '],\n",
    "]\n",
    "\n",
    "zodiacs = {'Aries':'♈️', 'Taurus':'♉️', 'Gemini':'♊️', 'Cancer':'♋️', 'Leo':'♌️', 'Virgo':'♍️', 'Libra':'♎️', 'Scorpio':'♏️', 'Sagittarius':'♐️', 'Capricorn':'♑️', 'Aquarius':'♒️', 'Pisces':'♓️'}\n",
    "\n",
    "\n",
    "def generate_opening_sentence(star_sign):\n",
    "    symbol = zodiacs[star_sign]\n",
    "    positive_trait = choice(positive_adjectives)\n",
    "    negative_trait = choice(negative_adjectives)\n",
    "    \n",
    "    apt_article = 'a'\n",
    "    if star_sign[0] in ['A', 'E', 'I', 'O' 'U']:\n",
    "        apt_article = \"an\"\n",
    "    \n",
    "    horoscope = f'{symbol} As {apt_article} {star_sign}, you are naturally {positive_trait}, but you also tend to be {negative_trait}. '\n",
    "    return horoscope\n",
    "\n",
    "def generate_prophecy(star_sign):\n",
    "    horoscope = ''\n",
    "    for sentences in prophecies:\n",
    "        horoscope += choice(sentences)\n",
    "    return horoscope\n",
    "\n",
    "def generate_horoscope(star_sign):\n",
    "    horoscope = generate_opening_sentence(star_sign)\n",
    "    horoscope += generate_prophecy(star_sign)\n",
    "    return horoscope\n",
    "\n",
    "\n",
    "for sign in zodiacs.keys():\n",
    "    print(generate_horoscope(sign))\n",
    "\n"
   ]
  },
  {
   "cell_type": "markdown",
   "id": "e8e7473f",
   "metadata": {},
   "source": [
    "Once you understand the code, here are some activities you can try:\n",
    "\n",
    "1. Can you add in some more prophecies and adjectives? [EASY]\n",
    "\n",
    "2. Aries and Aquarius begin with a vowel, so they should be preceded by \"an\" not \"a\". Can you add some code to the `generate_opening_sentence()` function to insert the correct article. [MEDIUM]\n",
    "\n",
    "3. Make a new function that takes a person's date of birth and returns the appropriate horoscope? [HARD]"
   ]
  },
  {
   "cell_type": "code",
   "execution_count": 116,
   "id": "0c7d65fe",
   "metadata": {},
   "outputs": [
    {
     "ename": "TypeError",
     "evalue": "unsupported operand type(s) for -: 'str' and 'int'",
     "output_type": "error",
     "traceback": [
      "\u001b[0;31m---------------------------------------------------------------------------\u001b[0m",
      "\u001b[0;31mTypeError\u001b[0m                                 Traceback (most recent call last)",
      "\u001b[0;32m/tmp/ipykernel_18680/4031084184.py\u001b[0m in \u001b[0;36m<module>\u001b[0;34m\u001b[0m\n\u001b[1;32m     13\u001b[0m \u001b[0;34m\u001b[0m\u001b[0m\n\u001b[1;32m     14\u001b[0m \u001b[0;34m\u001b[0m\u001b[0m\n\u001b[0;32m---> 15\u001b[0;31m \u001b[0mgenerate_horoscope_from_dob\u001b[0m\u001b[0;34m(\u001b[0m\u001b[0;36m24\u001b[0m\u001b[0;34m,\u001b[0m\u001b[0;34m'12'\u001b[0m\u001b[0;34m)\u001b[0m\u001b[0;34m\u001b[0m\u001b[0;34m\u001b[0m\u001b[0m\n\u001b[0m",
      "\u001b[0;32m/tmp/ipykernel_18680/4031084184.py\u001b[0m in \u001b[0;36mgenerate_horoscope_from_dob\u001b[0;34m(date, month)\u001b[0m\n\u001b[1;32m      5\u001b[0m \u001b[0;34m\u001b[0m\u001b[0m\n\u001b[1;32m      6\u001b[0m \u001b[0;34m\u001b[0m\u001b[0m\n\u001b[0;32m----> 7\u001b[0;31m     \u001b[0;32mif\u001b[0m \u001b[0mdate\u001b[0m \u001b[0;34m>=\u001b[0m \u001b[0mli2\u001b[0m\u001b[0;34m[\u001b[0m\u001b[0mmonth\u001b[0m \u001b[0;34m-\u001b[0m \u001b[0;36m1\u001b[0m\u001b[0;34m]\u001b[0m\u001b[0;34m:\u001b[0m\u001b[0;34m\u001b[0m\u001b[0;34m\u001b[0m\u001b[0m\n\u001b[0m\u001b[1;32m      8\u001b[0m         \u001b[0mz\u001b[0m \u001b[0;34m=\u001b[0m \u001b[0mli1\u001b[0m\u001b[0;34m[\u001b[0m\u001b[0mmonth\u001b[0m \u001b[0;34m-\u001b[0m \u001b[0;36m1\u001b[0m\u001b[0;34m]\u001b[0m\u001b[0;34m\u001b[0m\u001b[0;34m\u001b[0m\u001b[0m\n\u001b[1;32m      9\u001b[0m     \u001b[0;32melse\u001b[0m\u001b[0;34m:\u001b[0m\u001b[0;34m\u001b[0m\u001b[0;34m\u001b[0m\u001b[0m\n",
      "\u001b[0;31mTypeError\u001b[0m: unsupported operand type(s) for -: 'str' and 'int'"
     ]
    }
   ],
   "source": [
    "def generate_horoscope_from_dob (date:int, month:int):\n",
    "    \n",
    "    li1 = [ 'Aquarius', 'Pisces', 'Aries', 'Taurus', 'Gemini', 'Cancer', 'Leo', 'Virgo', 'Libra', 'Scorpio', 'Sagittarius', 'Capricorn']\n",
    "    li2 = [20,19,21,20,21,22,23,23,23,24,22,22]\n",
    "    \n",
    "\n",
    "    if date >= li2[month - 1]:\n",
    "        z = li1[month - 1]\n",
    "    else:\n",
    "        z = li1[month - 2]\n",
    "\n",
    "    return generate_horoscope(z)\n",
    "\n",
    "\n",
    "generate_horoscope_from_dob(24,'12')"
   ]
  },
  {
   "cell_type": "markdown",
   "id": "f4610f6a",
   "metadata": {},
   "source": [
    "## Classes and Objects\n",
    "\n",
    "As I mentioned earlier, a collection of related functions can be wrapped up into a class. Classes tend to be a little abstract and difficult to understand for beginners, so I don't want to say too much about them here. It suffices to say that classes define \"objects,\" just like how functions define procedures. In this course, I will focus more on *using* these \"objects\" rather than actually defining them yourself. Personally, I like using classes – in fact, sometimes I worry that I use them a little too much! But the truth is that you can already get pretty far without ever building any of your own classes. That being said, if you're curious, you can look up some online tutorials, like this one: https://www.w3schools.com/python/python_classes.asp\n",
    "\n",
    "There are, however, a few important things to say on this topic. First, I've been using the word \"object\" several times today without really explaining what this means. Technically, Python is what's known as an **object-oriented language**. This means that Python treats everything as an abstract \"object\" that has certain attributes and methods. Lists are objects, ints are objects, functions are objects, strings are objects, slices are objects, modules are objects... you get the idea...!\n",
    "\n",
    "The main reason this matters to us is because these objects often have useful **methods** associated with them. We've used one of these methods already: the `.append()` method from the `list` object. Recall from the last class that this allowed us to append an item to the end of a list:"
   ]
  },
  {
   "cell_type": "code",
   "execution_count": 74,
   "id": "e2eb09aa",
   "metadata": {},
   "outputs": [
    {
     "name": "stdout",
     "output_type": "stream",
     "text": [
      "['blue', 'red', 'green', 'yellow', 'black']\n",
      "['blue', 'red', 'green', 'yellow', 'black', 'orange']\n"
     ]
    }
   ],
   "source": [
    "colors = ['blue', 'red', 'green', 'yellow', 'black']\n",
    "print(colors)\n",
    "colors.append('orange')\n",
    "print(colors)"
   ]
  },
  {
   "cell_type": "markdown",
   "id": "d8f04a40",
   "metadata": {},
   "source": [
    "Aside from `.append()`, the list object has several other handy methods, including:\n",
    "\n",
    "1. `.count()` – counts how many times a value occurs in the list\n",
    "\n",
    "2. `.extend()` – combine the list with a new list\n",
    "\n",
    "3. `.insert()` – insert a value into the list at a particular position\n",
    "\n",
    "4. `.pop()` – remove the last item from the list\n",
    "\n",
    "5. `.index()` – get the index of the first occurrence of a value\n",
    "\n",
    "Plus, list objects also have their own `.reverse()` and `.sort()` methods, which perform these operations in place (i.e. calling these methods actually modifies the list in memory). Try experimenting with some of these methods in the cell above.\n",
    "\n",
    "Likewise, string objects also have several useful methods:"
   ]
  },
  {
   "cell_type": "code",
   "execution_count": 76,
   "id": "93775515",
   "metadata": {},
   "outputs": [
    {
     "name": "stdout",
     "output_type": "stream",
     "text": [
      "hello world\n",
      "Hello world\n",
      "HELLO WORLD\n",
      "['hello', 'world']\n",
      "hello universe\n"
     ]
    }
   ],
   "source": [
    "my_string = 'hello world'\n",
    "\n",
    "print(my_string)\n",
    "print(my_string.capitalize())\n",
    "print(my_string.upper())\n",
    "print(my_string.split())\n",
    "print(my_string.replace('world', 'universe'))"
   ]
  },
  {
   "cell_type": "markdown",
   "id": "45db8f41",
   "metadata": {},
   "source": [
    "If you type `my_string.` and then hit the TAB key, you should see a popup that shows all the available string methods. Try exploring some more methods to see what they do."
   ]
  },
  {
   "cell_type": "code",
   "execution_count": null,
   "id": "388c5e7e",
   "metadata": {},
   "outputs": [],
   "source": []
  },
  {
   "cell_type": "markdown",
   "id": "2e84246b",
   "metadata": {},
   "source": [
    "## More Activities [optional]\n",
    "\n",
    "If you get through all the material above, and you're still hungry for more, here are some additional activities you can try:\n",
    "\n",
    "1. Write a `sum()` function that sums a list of numbers (you cannot use the built-in `sum()` function – you have to write your own). [EASY]\n",
    "\n",
    "2. Now write a `sum()` function that doesn't use a for-loop. [MEDIUM]\n",
    "\n",
    "3. Now write a `sum()` function that doesn't use any loops. [HARD]"
   ]
  },
  {
   "cell_type": "code",
   "execution_count": null,
   "id": "ec5c1c45",
   "metadata": {},
   "outputs": [],
   "source": [
    "def my_sum(numbers):\n",
    "    total = 0\n",
    "    for number in numbers:\n",
    "        total += number\n",
    "    return total"
   ]
  },
  {
   "cell_type": "code",
   "execution_count": 117,
   "id": "b7ae144b",
   "metadata": {},
   "outputs": [
    {
     "data": {
      "text/plain": [
       "4"
      ]
     },
     "execution_count": 117,
     "metadata": {},
     "output_type": "execute_result"
    }
   ],
   "source": [
    "import functools as ft\n",
    "\n",
    "def my_sum_2(numbers):\n",
    "    total = ft.reduce(lambda a,b:a+b, numbers)\n",
    "    return total\n",
    "\n",
    "my_sum_2([1,1,2])"
   ]
  },
  {
   "cell_type": "markdown",
   "id": "78dcb164",
   "metadata": {},
   "source": [
    "## Even More Activities [even more optional]\n",
    "\n",
    "Try to implement a `sort()` function from scratch. The function should take in a list of unordered numbers, and it should return the list in sorted order. See how far you can get on your own and then take a look at [this page](https://www.tutorialspoint.com/python_data_structure/python_sorting_algorithms.htm), which shows you various solutions using different sorting algorithms."
   ]
  },
  {
   "cell_type": "code",
   "execution_count": 97,
   "id": "add0c321",
   "metadata": {},
   "outputs": [
    {
     "data": {
      "text/plain": [
       "[1, 2, 4, 23]"
      ]
     },
     "execution_count": 97,
     "metadata": {},
     "output_type": "execute_result"
    }
   ],
   "source": [
    "def my_sort(nums):\n",
    "    sorted_nums = []\n",
    "    \n",
    "    while len(nums) > 0:\n",
    "        m = min(nums)\n",
    "       \n",
    "        sorted_nums.append(m)\n",
    "        nums = list(filter(lambda val: val != m, nums))\n",
    "                \n",
    "    return(sorted_nums)\n",
    "\n",
    "my_sort([23,1,2,4,2])\n",
    "        "
   ]
  },
  {
   "cell_type": "markdown",
   "id": "5c9b046a",
   "metadata": {},
   "source": [
    "## Homework\n",
    "\n",
    "As part of your own personal project, try to implement (at least) one function that you think you will eventually need. For example, if you wanted to make a Wordle solver, you would probably need a function that can loop through a big list of English words and find all the words that have a certain character in a certain position. So, the function might look something like this:\n",
    "\n",
    "```python\n",
    "def filter_words_with_char_in_correct_position(character, position):\n",
    "    candidate_words = []\n",
    "    for word in english_dictionary:\n",
    "        if word[position] == character:\n",
    "            candidate_words.append(word)\n",
    "    return candidate_words\n",
    "```\n",
    "\n",
    "At this point, you might not be able to get the function fully operational. Here, for example, I first need to get hold of a dictionary of English words. But I hope that you can at least sketch out what the function might look like. What input(s) does it take and what output(s) does it produce? What is the algorithm for converting inputs into outputs?"
   ]
  }
 ],
 "metadata": {
  "kernelspec": {
   "display_name": "Python 3 (ipykernel)",
   "language": "python",
   "name": "python3"
  },
  "language_info": {
   "codemirror_mode": {
    "name": "ipython",
    "version": 3
   },
   "file_extension": ".py",
   "mimetype": "text/x-python",
   "name": "python",
   "nbconvert_exporter": "python",
   "pygments_lexer": "ipython3",
   "version": "3.10.1"
  }
 },
 "nbformat": 4,
 "nbformat_minor": 5
}
